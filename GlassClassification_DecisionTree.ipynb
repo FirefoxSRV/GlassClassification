{
  "cells": [
    {
      "cell_type": "markdown",
      "metadata": {
        "id": "view-in-github",
        "colab_type": "text"
      },
      "source": [
        "<a href=\"https://colab.research.google.com/github/FirefoxSRV/GlassClassification/blob/main/GlassClassification_DecisionTree.ipynb\" target=\"_parent\"><img src=\"https://colab.research.google.com/assets/colab-badge.svg\" alt=\"Open In Colab\"/></a>"
      ]
    },
    {
      "cell_type": "code",
      "execution_count": 32,
      "metadata": {
        "colab": {
          "base_uri": "https://localhost:8080/"
        },
        "id": "0-98DErgtwQt",
        "outputId": "061bd069-48c8-475f-f100-31353e59b0df"
      },
      "outputs": [
        {
          "output_type": "stream",
          "name": "stdout",
          "text": [
            "Drive already mounted at /content/drive; to attempt to forcibly remount, call drive.mount(\"/content/drive\", force_remount=True).\n"
          ]
        }
      ],
      "source": [
        "from google.colab import drive\n",
        "drive.mount('/content/drive')"
      ]
    },
    {
      "cell_type": "code",
      "execution_count": 33,
      "metadata": {
        "id": "yTqw1D35t9BB"
      },
      "outputs": [],
      "source": [
        "import numpy as np\n",
        "import pandas as pd\n",
        "import matplotlib.pyplot as plt"
      ]
    },
    {
      "cell_type": "code",
      "execution_count": 34,
      "metadata": {
        "id": "JbjPgU5Qt-Gh"
      },
      "outputs": [],
      "source": [
        "data = pd.read_csv(\"glass.csv\")\n",
        "X = data.drop(\"Type\", axis=1)\n",
        "y = data[\"Type\"]"
      ]
    },
    {
      "cell_type": "code",
      "execution_count": 35,
      "metadata": {
        "colab": {
          "base_uri": "https://localhost:8080/"
        },
        "id": "mxUX7AXnt_1l",
        "outputId": "ed8c8ac5-4eb4-42a7-da9b-8dae930d058e"
      },
      "outputs": [
        {
          "output_type": "stream",
          "name": "stdout",
          "text": [
            "          RI     Na    Mg    Al     Si     K    Ca    Ba   Fe\n",
            "0    1.52101  13.64  4.49  1.10  71.78  0.06  8.75  0.00  0.0\n",
            "1    1.51761  13.89  3.60  1.36  72.73  0.48  7.83  0.00  0.0\n",
            "2    1.51618  13.53  3.55  1.54  72.99  0.39  7.78  0.00  0.0\n",
            "3    1.51766  13.21  3.69  1.29  72.61  0.57  8.22  0.00  0.0\n",
            "4    1.51742  13.27  3.62  1.24  73.08  0.55  8.07  0.00  0.0\n",
            "..       ...    ...   ...   ...    ...   ...   ...   ...  ...\n",
            "209  1.51623  14.14  0.00  2.88  72.61  0.08  9.18  1.06  0.0\n",
            "210  1.51685  14.92  0.00  1.99  73.06  0.00  8.40  1.59  0.0\n",
            "211  1.52065  14.36  0.00  2.02  73.42  0.00  8.44  1.64  0.0\n",
            "212  1.51651  14.38  0.00  1.94  73.61  0.00  8.48  1.57  0.0\n",
            "213  1.51711  14.23  0.00  2.08  73.36  0.00  8.62  1.67  0.0\n",
            "\n",
            "[214 rows x 9 columns]\n"
          ]
        }
      ],
      "source": [
        "print(X)"
      ]
    },
    {
      "cell_type": "code",
      "execution_count": 36,
      "metadata": {
        "colab": {
          "base_uri": "https://localhost:8080/"
        },
        "id": "Ipygjg93uBgO",
        "outputId": "d19ccf3a-1202-457a-acc8-669a3784b29d"
      },
      "outputs": [
        {
          "output_type": "stream",
          "name": "stdout",
          "text": [
            "0      1\n",
            "1      1\n",
            "2      1\n",
            "3      1\n",
            "4      1\n",
            "      ..\n",
            "209    7\n",
            "210    7\n",
            "211    7\n",
            "212    7\n",
            "213    7\n",
            "Name: Type, Length: 214, dtype: int64\n"
          ]
        }
      ],
      "source": [
        "print(y)"
      ]
    },
    {
      "cell_type": "code",
      "execution_count": 37,
      "metadata": {
        "id": "I5J10qRuuDE7"
      },
      "outputs": [],
      "source": [
        "from sklearn.model_selection import train_test_split\n",
        "X_train,X_test,y_train,y_test=train_test_split(X,y,test_size=0.2,random_state=42)"
      ]
    },
    {
      "cell_type": "code",
      "execution_count": 38,
      "metadata": {
        "id": "v03rVZ-3uHa1"
      },
      "outputs": [],
      "source": [
        "from sklearn.preprocessing import StandardScaler\n",
        "scaler = StandardScaler()\n",
        "X_train = scaler.fit_transform(X_train)\n",
        "X_test = scaler.transform(X_test)"
      ]
    },
    {
      "cell_type": "code",
      "source": [
        "from sklearn.model_selection import GridSearchCV\n",
        "from sklearn.tree import DecisionTreeClassifier\n",
        "from sklearn.metrics import accuracy_score"
      ],
      "metadata": {
        "id": "kMFe11xLeXp0"
      },
      "execution_count": 39,
      "outputs": []
    },
    {
      "cell_type": "code",
      "source": [
        "from sklearn.model_selection import GridSearchCV\n",
        "from sklearn.tree import DecisionTreeClassifier\n",
        "from sklearn.metrics import accuracy_score\n",
        "param_grid = {\n",
        "    'criterion': ['gini', 'entropy'],\n",
        "    'splitter': ['best', 'random'],\n",
        "    'max_depth': [None, 10, 20, 30],\n",
        "    'min_samples_split': [2, 5, 10],\n",
        "    'min_samples_leaf': [1, 2, 4]\n",
        "}\n",
        "\n",
        "grid_search = GridSearchCV(\n",
        "    DecisionTreeClassifier(random_state=42),\n",
        "    param_grid,\n",
        "    cv=5,\n",
        "    n_jobs=-1\n",
        ")\n",
        "\n",
        "grid_search.fit(X_train, y_train)\n",
        "\n",
        "best_classifier = grid_search.best_estimator_\n",
        "best_params = grid_search.best_params_\n",
        "\n",
        "print(\"Best Parameters:\", best_params)\n",
        "\n",
        "y_pred_best = best_classifier.predict(X_test)\n",
        "best_score = accuracy_score(y_pred_best, y_test)\n",
        "print(\"Best Accuracy Score:\", best_score * 100)\n",
        "y_pred = np.array(y_pred_best)\n",
        "y_test = np.array(y_test)\n",
        "print(np.concatenate((y_pred.reshape(len(y_pred),1), y_test.reshape(len(y_test),1)),1))\n"
      ],
      "metadata": {
        "colab": {
          "base_uri": "https://localhost:8080/"
        },
        "id": "-ZH02VjLdxKV",
        "outputId": "5696023e-8c33-40bb-f9ba-993ccb849111"
      },
      "execution_count": 40,
      "outputs": [
        {
          "output_type": "stream",
          "name": "stdout",
          "text": [
            "Best Parameters: {'criterion': 'gini', 'max_depth': 10, 'min_samples_leaf': 2, 'min_samples_split': 2, 'splitter': 'random'}\n",
            "Best Accuracy Score: 76.74418604651163\n",
            "[[2 1]\n",
            " [7 7]\n",
            " [1 1]\n",
            " [7 7]\n",
            " [2 2]\n",
            " [2 2]\n",
            " [1 1]\n",
            " [2 2]\n",
            " [2 2]\n",
            " [2 2]\n",
            " [5 6]\n",
            " [5 5]\n",
            " [2 2]\n",
            " [2 2]\n",
            " [6 6]\n",
            " [5 5]\n",
            " [5 7]\n",
            " [1 1]\n",
            " [1 1]\n",
            " [6 6]\n",
            " [2 2]\n",
            " [7 7]\n",
            " [7 7]\n",
            " [7 7]\n",
            " [2 3]\n",
            " [1 2]\n",
            " [1 1]\n",
            " [1 1]\n",
            " [2 5]\n",
            " [1 1]\n",
            " [5 1]\n",
            " [2 2]\n",
            " [3 3]\n",
            " [2 2]\n",
            " [1 1]\n",
            " [7 7]\n",
            " [5 5]\n",
            " [3 3]\n",
            " [1 2]\n",
            " [7 2]\n",
            " [5 2]\n",
            " [7 7]\n",
            " [1 1]]\n"
          ]
        }
      ]
    }
  ],
  "metadata": {
    "colab": {
      "provenance": [],
      "authorship_tag": "ABX9TyPRqXqRRi3RsTY35RsIz4ju",
      "include_colab_link": true
    },
    "kernelspec": {
      "display_name": "Python 3",
      "name": "python3"
    },
    "language_info": {
      "name": "python"
    }
  },
  "nbformat": 4,
  "nbformat_minor": 0
}